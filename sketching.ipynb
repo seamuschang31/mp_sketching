{
 "cells": [
  {
   "attachments": {},
   "cell_type": "markdown",
   "metadata": {},
   "source": [
    "# Mini Project - Sketching"
   ]
  },
  {
   "attachments": {},
   "cell_type": "markdown",
   "metadata": {},
   "source": [
    "## Section 1 - Function Implementation"
   ]
  },
  {
   "attachments": {},
   "cell_type": "markdown",
   "metadata": {},
   "source": [
    "### Import"
   ]
  },
  {
   "cell_type": "code",
   "execution_count": 280,
   "metadata": {},
   "outputs": [],
   "source": [
    "import mmh3\n",
    "import BitVector as bv"
   ]
  },
  {
   "cell_type": "markdown",
   "metadata": {},
   "source": [
    "For this MP, you will be using the [mmh3 hash](https://pypi.org/project/mmh3/). This hash is very efficient and great for real world data although ironically the data provided and used by the autograder will be using it in exactly the wrong context. To quote the authors:\n",
    "\n",
    "*As MurMur3 creates a fairly big print (128 bits), so it’s not recommended to use it for hashing small data sets like words, short strings, integers and so on. The embedded hash functions for these simple and small data types provide excellent performance with low collision rate. So anything that is less than a couple dozen, or preferably hundreds of bytes is not a good candidate.*"
   ]
  },
  {
   "attachments": {},
   "cell_type": "markdown",
   "metadata": {},
   "source": [
    "### Hash Functions"
   ]
  },
  {
   "cell_type": "code",
   "execution_count": 281,
   "metadata": {},
   "outputs": [],
   "source": [
    "#INPUT:\n",
    "# A hashable datatype (probably string) value containing the object being hashed\n",
    "# An optional integer argument seed storing the seed to provide mmh3\n",
    "#OUTPUT:\n",
    "# An integer value containing the output hash value for the input object\n",
    "\n",
    "def seededHash(value, seed=None):\n",
    "    if seed:\n",
    "        return mmh3.hash(value, seed)\n",
    "    return mmh3.hash(value)"
   ]
  },
  {
   "cell_type": "code",
   "execution_count": 282,
   "metadata": {},
   "outputs": [],
   "source": [
    "#INPUT:\n",
    "# A set (inSet) storing the collection of hashable values that define a single object\n",
    "# An integer (k) storing the number of hash minima you need to keep track of\n",
    "# An optional argument (seed) which sets the random seed used to generate the hash function\n",
    "#OUTPUT:\n",
    "# A set of integers storing the k-minimum hash values produced by passing each item in inSet through seededHash\n",
    "def minHash(inSet, k, seed=None):\n",
    "    #YOUR CODE HERE\n",
    "    hash_val = []\n",
    "    for val in inSet:\n",
    "        hash_val.append(seededHash(val, seed))\n",
    "    hash_val.sort()\n",
    "    return set(hash_val[:k])"
   ]
  },
  {
   "cell_type": "code",
   "execution_count": 283,
   "metadata": {},
   "outputs": [],
   "source": [
    "#INPUT:\n",
    "# A set (inSet) storing the collection of hashable values that define a single object\n",
    "# An integer (m) storing the size of the bloom filter being constructed\n",
    "# Two optional integer arguments (hs1 and hs2) storing hash seeds for the BF's first and second hash\n",
    "#OUTPUT:\n",
    "# A BitVector of size m containing all input items hashed using both hs1 and hs2 seeds\n",
    "def bloomFilter(inSet, m, hs1=0, hs2=10):\n",
    "    bitvec = bv.BitVector(size=m)\n",
    "    for val in inSet:\n",
    "        idx1 = seededHash(val, hs1) % m\n",
    "        idx2 = seededHash(val, hs2) % m\n",
    "        bitvec[idx1] = 1\n",
    "        bitvec[idx2] = 1\n",
    "    return bitvec"
   ]
  },
  {
   "cell_type": "code",
   "execution_count": 284,
   "metadata": {},
   "outputs": [],
   "source": [
    "#INPUT:\n",
    "# Two input sets (inSet1 and inSet2) containing sets of the same hashable data type\n",
    "#OUTPUT:\n",
    "# A float value between 0 and 1 corresponding to the Jaccard similarity between input sets\n",
    "# NOTE: You can use this function to calculate the exact similarity between raw datasets\n",
    "# and also the Minhash similarity (since a Minhash sketch is *literally* just a set)\n",
    "def jaccard(inSet1, inSet2):\n",
    "    #YOUR CODE HERE\n",
    "    intersec = len(inSet1.intersection(inSet2))\n",
    "    # print(intersec)\n",
    "    union = len(inSet1.union(inSet2))\n",
    "    # print(union)\n",
    "    return intersec/union"
   ]
  },
  {
   "cell_type": "code",
   "execution_count": 285,
   "metadata": {},
   "outputs": [],
   "source": [
    "#INPUT:\n",
    "# Two input BitVectors (bf1 and bf2) containing two equal length bloom filters\n",
    "#OUTPUT:\n",
    "# A float value between 0 and 1 corresponding to the Jaccard similarity between input sets\n",
    "def bf_jaccard(bf1, bf2):\n",
    "    intersect = (bf1 & bf2).count_bits()\n",
    "    union = (bf1.count_bits() + bf2.count_bits()) - intersect\n",
    "    \n",
    "    return intersect / union"
   ]
  },
  {
   "cell_type": "code",
   "execution_count": 286,
   "metadata": {},
   "outputs": [],
   "source": [
    "#INPUT:\n",
    "# A BitVector object bf, containing a bloom filter\n",
    "# A hashable data type (probably string) val, containing the value being searched for\n",
    "# Two optional integer arguments storing hash seeds for the BF's first and second hash\n",
    "#OUTPUT:\n",
    "# A bool (True or False) based on whether or not val is present in BF.\n",
    "# NOTE: The Bloom Filter is probabilistic and some of the time will return 'True' \n",
    "# even if the item is not present.\n",
    "def bf_find(bf, val, hs1=0, hs2=10):\n",
    "    hash1 = seededHash(val, hs1) % len(bf)\n",
    "    hash2 = seededHash(val, hs2) % len(bf)\n",
    "\n",
    "    if bf[hash1] == 1 and bf[hash2] == 1:\n",
    "        return True\n",
    "    else:\n",
    "        return False"
   ]
  },
  {
   "attachments": {},
   "cell_type": "markdown",
   "metadata": {},
   "source": [
    "### Test\n",
    "\n",
    "Run-Code"
   ]
  },
  {
   "cell_type": "code",
   "execution_count": 287,
   "metadata": {},
   "outputs": [
    {
     "name": "stdout",
     "output_type": "stream",
     "text": [
      "601558399\n",
      "raw: 0.14285714285714285\n",
      "mh: 0.0\n",
      "bf: 0.21739130434782608\n",
      "raw: 0.06666666666666667\n",
      "mh: 0.0\n",
      "bf: 0.16666666666666666\n",
      "raw: 0.45454545454545453\n",
      "mh: 0.5\n",
      "bf: 0.5555555555555556\n",
      "False\n",
      "True\n",
      "True\n",
      "True\n",
      "False\n",
      "False\n"
     ]
    }
   ],
   "source": [
    "# An example on how to use seededHash\n",
    "print(seededHash('From', seed=4))\n",
    "\n",
    "s1 = set([\"1\", \"2\", \"3\", \"4\", \"5\", \"6\", \"7\", \"8\"])\n",
    "s2 = set([\"11\", \"12\", \"13\", \"4\", \"5\", \"16\", \"17\", \"18\"])\n",
    "s3 = set([\"11\", \"12\", \"13\", \"24\", \"25\", \"6\", \"17\", \"18\"])\n",
    "\n",
    "k = 3\n",
    "mh1 = minHash(s1, k)\n",
    "mh2 = minHash(s2, k)\n",
    "mh3 = minHash(s3, k)\n",
    "\n",
    "m = 50\n",
    "bf1 = bloomFilter(s1, m)\n",
    "bf2 = bloomFilter(s2, m)\n",
    "bf3 = bloomFilter(s3, m)\n",
    "\n",
    "print(\"raw:\", jaccard(s1, s2)) #0.14285714285714285\n",
    "print(\"mh:\", jaccard(mh1, mh2)) #0.0\n",
    "print(\"bf:\", bf_jaccard(bf1, bf2)) #0.21739130434782608\n",
    "\n",
    "print(\"raw:\", jaccard(s1, s3)) # 0.06666666666666667\n",
    "print(\"mh:\",jaccard(mh1, mh3)) # 0.0\n",
    "print(\"bf:\",bf_jaccard(bf1, bf3)) #0.16666666666666666\n",
    "\n",
    "print(\"raw:\",jaccard(s2, s3)) # 0.45454545454545453\n",
    "print(\"mh:\",jaccard(mh2, mh3)) # 0.5\n",
    "print(\"bf:\",bf_jaccard(bf2, bf3)) # 0.5555555555555556\n",
    "\n",
    "# BF will 100% of the time give the correct answer for items that exist\n",
    "findValue = \"11\"\n",
    "print(bf_find(bf1,findValue))\n",
    "print(bf_find(bf2, findValue))\n",
    "print(bf_find(bf3, findValue))\n",
    "\n",
    "# A small percentage of the time it will think an item exists that was not in the set\n",
    "findValue = \"9\"\n",
    "print(bf_find(bf1,findValue))\n",
    "print(bf_find(bf2, findValue))\n",
    "print(bf_find(bf3, findValue))\n"
   ]
  },
  {
   "attachments": {},
   "cell_type": "markdown",
   "metadata": {},
   "source": [
    "### Sample input from text files"
   ]
  },
  {
   "cell_type": "markdown",
   "metadata": {},
   "source": [
    "Here's an example of a dataset analysis of just two items (using fixed values of k and m)! You should not use these same values without considering or testing alternatives, they likely won't work for your dataset."
   ]
  },
  {
   "cell_type": "code",
   "execution_count": 288,
   "metadata": {},
   "outputs": [
    {
     "name": "stdout",
     "output_type": "stream",
     "text": [
      "raw: 0.3309557774607703\n",
      "mh: 0.3333333333333333\n",
      "bf: 0.48413747521480505\n"
     ]
    }
   ],
   "source": [
    "dataset0 = set()\n",
    "dataset1 = set()\n",
    "\n",
    "with open(\"data/stringSet_0.txt\") as myFile: #Open the file as a 'reader'\n",
    "    for line in myFile: # For each line in the file\n",
    "        if line: # A simple way to write 'if line exists' (is non empty)\n",
    "            line = line.strip()\n",
    "            dataset0.add(line)\n",
    "            \n",
    "with open(\"data/stringSet_1.txt\") as myFile: #Open the file as a 'reader'\n",
    "    for line in myFile: # For each line in the file\n",
    "        if line: # A simple way to write 'if line exists' (is non empty)\n",
    "            line = line.strip()\n",
    "            dataset1.add(line)\n",
    "\n",
    "k = 10\n",
    "mh0 = minHash(dataset0, k)\n",
    "mh1 = minHash(dataset1, k)\n",
    "\n",
    "m = 6000 \n",
    "bf0 = bloomFilter(dataset0, m)\n",
    "bf1 = bloomFilter(dataset1, m)\n",
    "\n",
    "print(\"raw:\", jaccard(dataset0, dataset1)) #0.3309557774607703\n",
    "print(\"mh:\", jaccard(mh0, mh1)) #When k= 10, 0.3333333333333333\n",
    "print(\"bf:\", bf_jaccard(bf0, bf1)) #When m=6000, 0.48413747521480505"
   ]
  },
  {
   "attachments": {},
   "cell_type": "markdown",
   "metadata": {},
   "source": [
    "## Section 2 - Dataset Exploration"
   ]
  },
  {
   "attachments": {},
   "cell_type": "markdown",
   "metadata": {},
   "source": [
    "### Dateset Link\n",
    "\n",
    "I plan to visualize the similarity between each song lyrics. \n",
    "\n",
    "Link: https://www.kaggle.com/datasets/paultimothymooney/poetry\n"
   ]
  },
  {
   "attachments": {},
   "cell_type": "markdown",
   "metadata": {},
   "source": [
    "### Dataset Format\n",
    "\n",
    "I would use five songs (bieber.txt, bruno-mars.txt, rihanna.txt, michael-jackson.txt, and adele.txt) as a unique object where the lyrics in the song are the features to be compared. The data format will be the text file format, and separate each word by whitespace. The total count number in each song will be the estimated size of bloom filters, and try different values of k for minhash sketchings to approach the best one that has the most similarity. I will show the process by visualizing the bar graph to be more clear in similarity and use the final input value for k and m as my input to export to three tables."
   ]
  },
  {
   "attachments": {},
   "cell_type": "markdown",
   "metadata": {},
   "source": [
    "### Import"
   ]
  },
  {
   "cell_type": "code",
   "execution_count": 289,
   "metadata": {},
   "outputs": [],
   "source": [
    "import os \n",
    "import string\n",
    "\n",
    "import numpy as np\n",
    "import matplotlib.pyplot as plt\n",
    "import pandas as pd\n",
    "import math"
   ]
  },
  {
   "attachments": {},
   "cell_type": "markdown",
   "metadata": {},
   "source": [
    "### Import Dataset"
   ]
  },
  {
   "cell_type": "code",
   "execution_count": 290,
   "metadata": {},
   "outputs": [],
   "source": [
    "dataset0 = set()\n",
    "dataset1 = set()\n",
    "dataset2 = set()\n",
    "dataset3 = set()\n",
    "dataset4 = set()\n",
    "\n",
    "# 1. Adele.txt\n",
    "with open(\"data/adele.txt\") as myFile:\n",
    "    for line in myFile: \n",
    "        if line: \n",
    "            line = line.translate(str.maketrans('', '', string.punctuation))\n",
    "            line = line.strip().split(' ')\n",
    "            for word in line:\n",
    "                dataset0.add(word)\n",
    "\n",
    "# 2. Bieber.txt\n",
    "with open(\"data/bieber.txt\") as myFile:\n",
    "    for line in myFile: \n",
    "        if line: \n",
    "            line = line.translate(str.maketrans('', '', string.punctuation))\n",
    "            line = line.strip().split(' ')\n",
    "            for word in line:\n",
    "                dataset1.add(word)\n",
    "\n",
    "# 3. Bruno-mars.txt\n",
    "with open(\"data/bruno-mars.txt\") as myFile:\n",
    "    for line in myFile: \n",
    "        if line: \n",
    "            line = line.translate(str.maketrans('', '', string.punctuation))\n",
    "            line = line.strip().split(' ')\n",
    "            for word in line:\n",
    "                dataset2.add(word)\n",
    "\n",
    "# 4. Michael-jackson.txt                \n",
    "with open(\"data/michael-jackson.txt\") as myFile:\n",
    "    for line in myFile: \n",
    "        if line: \n",
    "            line = line.translate(str.maketrans('', '', string.punctuation))\n",
    "            line = line.strip().split(' ')\n",
    "            for word in line:\n",
    "                dataset3.add(word)\n",
    "\n",
    "# 5. rihanna.txt                \n",
    "with open(\"data/rihanna.txt\") as myFile:\n",
    "    for line in myFile: \n",
    "        if line: \n",
    "            line = line.translate(str.maketrans('', '', string.punctuation))\n",
    "            line = line.strip().split(' ')\n",
    "            for word in line:\n",
    "                dataset4.add(word)"
   ]
  },
  {
   "attachments": {},
   "cell_type": "markdown",
   "metadata": {},
   "source": [
    "### A. First Table - Raw Data\n",
    "\n",
    "#### Jaccard Similarity for each pair of objects using raw data "
   ]
  },
  {
   "cell_type": "code",
   "execution_count": 304,
   "metadata": {},
   "outputs": [],
   "source": [
    "# import \n",
    "d01 = jaccard(dataset0, dataset1)\n",
    "d02 = jaccard(dataset0, dataset2)\n",
    "d03 = jaccard(dataset0, dataset3)\n",
    "d04 = jaccard(dataset0, dataset4)\n",
    "d12 = jaccard(dataset1, dataset2)\n",
    "d13 = jaccard(dataset1, dataset3)\n",
    "d14 = jaccard(dataset1, dataset4)\n",
    "d23 = jaccard(dataset2, dataset3)\n",
    "d24 = jaccard(dataset2, dataset4)\n",
    "d34 = jaccard(dataset3, dataset4)"
   ]
  },
  {
   "cell_type": "code",
   "execution_count": 305,
   "metadata": {},
   "outputs": [
    {
     "data": {
      "image/png": "[encoded data removed]",
      "text/plain": [
       "<Figure size 1000x480 with 1 Axes>"
      ]
     },
     "metadata": {},
     "output_type": "display_data"
    }
   ],
   "source": [
    "height = [d01, d02, d03, d04, d12, d13, d14, d23, d24, d34]\n",
    "bars = ('d01', 'd02', 'd03', 'd04', 'd12', 'd13', 'd14', 'd23', 'd24', 'd34')\n",
    "y_pos = np.arange(len(bars))\n",
    "\n",
    "plt.figure().set_figwidth(10)\n",
    "plt.bar(y_pos, height)\n",
    "plt.xticks(y_pos, bars)\n",
    "plt.xlabel('Jaccard Similarity of Raw Data', color='green', fontsize='14', horizontalalignment='center')\n",
    "plt.show()"
   ]
  },
  {
   "cell_type": "code",
   "execution_count": 306,
   "metadata": {},
   "outputs": [
    {
     "data": {
      "text/html": [
       "<div>\n",
       "<style scoped>\n",
       "    .dataframe tbody tr th:only-of-type {\n",
       "        vertical-align: middle;\n",
       "    }\n",
       "\n",
       "    .dataframe tbody tr th {\n",
       "        vertical-align: top;\n",
       "    }\n",
       "\n",
       "    .dataframe thead th {\n",
       "        text-align: right;\n",
       "    }\n",
       "</style>\n",
       "<table border=\"1\" class=\"dataframe\">\n",
       "  <thead>\n",
       "    <tr style=\"text-align: right;\">\n",
       "      <th></th>\n",
       "      <th>Adele</th>\n",
       "      <th>Bieber</th>\n",
       "      <th>BrunoMars</th>\n",
       "      <th>MichaelJackson</th>\n",
       "      <th>Rihanna</th>\n",
       "    </tr>\n",
       "  </thead>\n",
       "  <tbody>\n",
       "    <tr>\n",
       "      <th>Adele</th>\n",
       "      <td>1.000000</td>\n",
       "      <td>0.289405</td>\n",
       "      <td>0.282754</td>\n",
       "      <td>0.220419</td>\n",
       "      <td>0.298828</td>\n",
       "    </tr>\n",
       "    <tr>\n",
       "      <th>Bieber</th>\n",
       "      <td>0.289405</td>\n",
       "      <td>1.000000</td>\n",
       "      <td>0.307293</td>\n",
       "      <td>0.240516</td>\n",
       "      <td>0.312150</td>\n",
       "    </tr>\n",
       "    <tr>\n",
       "      <th>BrunoMars</th>\n",
       "      <td>0.282754</td>\n",
       "      <td>0.307293</td>\n",
       "      <td>1.000000</td>\n",
       "      <td>0.237779</td>\n",
       "      <td>0.306157</td>\n",
       "    </tr>\n",
       "    <tr>\n",
       "      <th>MichaelJackson</th>\n",
       "      <td>0.220419</td>\n",
       "      <td>0.240516</td>\n",
       "      <td>0.237779</td>\n",
       "      <td>1.000000</td>\n",
       "      <td>0.246271</td>\n",
       "    </tr>\n",
       "    <tr>\n",
       "      <th>Rihanna</th>\n",
       "      <td>0.298828</td>\n",
       "      <td>0.312150</td>\n",
       "      <td>0.306157</td>\n",
       "      <td>0.246271</td>\n",
       "      <td>1.000000</td>\n",
       "    </tr>\n",
       "  </tbody>\n",
       "</table>\n",
       "</div>"
      ],
      "text/plain": [
       "                   Adele    Bieber  BrunoMars  MichaelJackson   Rihanna\n",
       "Adele           1.000000  0.289405   0.282754        0.220419  0.298828\n",
       "Bieber          0.289405  1.000000   0.307293        0.240516  0.312150\n",
       "BrunoMars       0.282754  0.307293   1.000000        0.237779  0.306157\n",
       "MichaelJackson  0.220419  0.240516   0.237779        1.000000  0.246271\n",
       "Rihanna         0.298828  0.312150   0.306157        0.246271  1.000000"
      ]
     },
     "execution_count": 306,
     "metadata": {},
     "output_type": "execute_result"
    }
   ],
   "source": [
    "df = pd.DataFrame({\"Adele\":[1, d01, d02, d03, d04],\n",
    "                   \"Bieber\":[d01, 1, d12, d13, d14],\n",
    "                   \"BrunoMars\":[d02, d12, 1, d23, d24],\n",
    "                   \"MichaelJackson\":[d03, d13, d23, 1, d34],\n",
    "                   \"Rihanna\":[d04, d14, d24, d34, 1]})\n",
    "\n",
    "df.index = ['Adele', 'Bieber', 'BrunoMars', 'MichaelJackson', 'Rihanna']\n",
    "df"
   ]
  },
  {
   "cell_type": "code",
   "execution_count": 307,
   "metadata": {},
   "outputs": [
    {
     "name": "stderr",
     "output_type": "stream",
     "text": [
      "/var/folders/tx/vfxw8ljd3_57rz58qxf02pm80000gn/T/ipykernel_23442/333377022.py:2: FutureWarning: In future versions `DataFrame.to_latex` is expected to utilise the base implementation of `Styler.to_latex` for formatting and rendering. The arguments signature may therefore change. It is recommended instead to use `DataFrame.style.to_latex` which also contains additional functionality.\n",
      "  df.to_latex('rawData.tex', index=True)\n"
     ]
    }
   ],
   "source": [
    "# Generate LaTex Table\n",
    "df.to_latex('rawData.tex', index=True)"
   ]
  },
  {
   "attachments": {},
   "cell_type": "markdown",
   "metadata": {},
   "source": [
    "### B. Second Table - minHash Sketches\n",
    "#### Jaccard Similarity for each pair of objects using minhash sketches. \n"
   ]
  },
  {
   "cell_type": "code",
   "execution_count": 295,
   "metadata": {},
   "outputs": [
    {
     "name": "stdout",
     "output_type": "stream",
     "text": [
      "[1623, 2320, 2215, 4318, 2367]\n"
     ]
    }
   ],
   "source": [
    "len_list = [len(dataset0), len(dataset1), len(dataset2), len(dataset3), len(dataset4)]\n",
    "print(len_list)"
   ]
  },
  {
   "cell_type": "code",
   "execution_count": 296,
   "metadata": {},
   "outputs": [
    {
     "data": {
      "image/png": "[encoded data removed]",
      "text/plain": [
       "<Figure size 640x480 with 1 Axes>"
      ]
     },
     "metadata": {},
     "output_type": "display_data"
    },
    {
     "name": "stdout",
     "output_type": "stream",
     "text": [
      "The optimal k value is 4250\n"
     ]
    }
   ],
   "source": [
    "datasets = [dataset0, dataset1, dataset2, dataset3, dataset4]\n",
    "\n",
    "k_values = range(100, 4318, 50)\n",
    "\n",
    "mean_jaccard_values = np.zeros(len(k_values))\n",
    "\n",
    "for i, k in enumerate(k_values):\n",
    "    jaccard_values = np.zeros((len(datasets), len(datasets)))\n",
    "    for j in range(len(datasets)):\n",
    "        for l in range(j + 1, len(datasets)):\n",
    "            mh_j = minHash(datasets[j], k)\n",
    "            mh_l = minHash(datasets[l], k)\n",
    "            jaccard_values[j, l] = jaccard(mh_j, mh_l)\n",
    "            jaccard_values[l, j] = jaccard_values[j, l]\n",
    "    mean_jaccard_values[i] = np.mean(jaccard_values)\n",
    "\n",
    "plt.plot(k_values, mean_jaccard_values)\n",
    "plt.xlabel('k')\n",
    "plt.ylabel('Mean Jaccard Similarity')\n",
    "plt.title('Optimal k for MinHash Jaccard Similarity')\n",
    "plt.show()\n",
    "\n",
    "optimal_k = k_values[np.argmax(mean_jaccard_values)]\n",
    "print(\"The optimal k value is\", optimal_k)\n"
   ]
  },
  {
   "cell_type": "code",
   "execution_count": 297,
   "metadata": {},
   "outputs": [
    {
     "data": {
      "image/png": "[encoded data removed]",
      "text/plain": [
       "<Figure size 1000x480 with 1 Axes>"
      ]
     },
     "metadata": {},
     "output_type": "display_data"
    }
   ],
   "source": [
    "k = 4250\n",
    "mh0 = minHash(dataset0, k)\n",
    "mh1 = minHash(dataset1, k)\n",
    "mh2 = minHash(dataset2, k)\n",
    "mh3 = minHash(dataset3, k)\n",
    "mh4 = minHash(dataset4, k)\n",
    "\n",
    "md01 = jaccard(mh0, mh1)\n",
    "md02 = jaccard(mh0, mh2)\n",
    "md03 = jaccard(mh0, mh3)\n",
    "md04 = jaccard(mh0, mh4)\n",
    "md12 = jaccard(mh1, mh2)\n",
    "md13 = jaccard(mh1, mh3)\n",
    "md14 = jaccard(mh1, mh4)\n",
    "md23 = jaccard(mh2, mh3)\n",
    "md24 = jaccard(mh2, mh4)\n",
    "md34 = jaccard(mh3, mh4)\n",
    "\n",
    "height = [md01, md02, md03, md04, md12, md13, md14, md23, md24, md34]\n",
    "bars = ('md01', 'md02', 'md03', 'md04', 'md12', 'md13', 'md14', 'md23', 'md24', 'md34')\n",
    "y_pos = np.arange(len(bars))\n",
    "\n",
    "plt.figure().set_figwidth(10)\n",
    "plt.bar(y_pos, height)\n",
    "plt.xticks(y_pos, bars)\n",
    "plt.xlabel('Jaccard Similarity of minHash Data (k=4250)', color='green', fontsize='14', horizontalalignment='center')\n",
    "plt.show()"
   ]
  },
  {
   "attachments": {},
   "cell_type": "markdown",
   "metadata": {},
   "source": [
    "#### Justification for my choice in value for k\n",
    "\n",
    "I have tested various dataset sizes from 100 to the largest dataset size, which is 4318, with an increment of 50. Based on my findings, I have determined that the optimal k value is approximately 4250."
   ]
  },
  {
   "cell_type": "code",
   "execution_count": 298,
   "metadata": {},
   "outputs": [
    {
     "data": {
      "text/html": [
       "<div>\n",
       "<style scoped>\n",
       "    .dataframe tbody tr th:only-of-type {\n",
       "        vertical-align: middle;\n",
       "    }\n",
       "\n",
       "    .dataframe tbody tr th {\n",
       "        vertical-align: top;\n",
       "    }\n",
       "\n",
       "    .dataframe thead th {\n",
       "        text-align: right;\n",
       "    }\n",
       "</style>\n",
       "<table border=\"1\" class=\"dataframe\">\n",
       "  <thead>\n",
       "    <tr style=\"text-align: right;\">\n",
       "      <th></th>\n",
       "      <th>Adele</th>\n",
       "      <th>Bieber</th>\n",
       "      <th>BrunoMars</th>\n",
       "      <th>MichaelJackson</th>\n",
       "      <th>Rihanna</th>\n",
       "    </tr>\n",
       "  </thead>\n",
       "  <tbody>\n",
       "    <tr>\n",
       "      <th>Adele</th>\n",
       "      <td>1.000000</td>\n",
       "      <td>0.289405</td>\n",
       "      <td>0.282754</td>\n",
       "      <td>0.220490</td>\n",
       "      <td>0.298828</td>\n",
       "    </tr>\n",
       "    <tr>\n",
       "      <th>Bieber</th>\n",
       "      <td>0.289405</td>\n",
       "      <td>1.000000</td>\n",
       "      <td>0.307293</td>\n",
       "      <td>0.239389</td>\n",
       "      <td>0.312150</td>\n",
       "    </tr>\n",
       "    <tr>\n",
       "      <th>BrunoMars</th>\n",
       "      <td>0.282754</td>\n",
       "      <td>0.307293</td>\n",
       "      <td>1.000000</td>\n",
       "      <td>0.237794</td>\n",
       "      <td>0.306157</td>\n",
       "    </tr>\n",
       "    <tr>\n",
       "      <th>MichaelJackson</th>\n",
       "      <td>0.220490</td>\n",
       "      <td>0.239389</td>\n",
       "      <td>0.237794</td>\n",
       "      <td>1.000000</td>\n",
       "      <td>0.245905</td>\n",
       "    </tr>\n",
       "    <tr>\n",
       "      <th>Rihanna</th>\n",
       "      <td>0.298828</td>\n",
       "      <td>0.312150</td>\n",
       "      <td>0.306157</td>\n",
       "      <td>0.245905</td>\n",
       "      <td>1.000000</td>\n",
       "    </tr>\n",
       "  </tbody>\n",
       "</table>\n",
       "</div>"
      ],
      "text/plain": [
       "                   Adele    Bieber  BrunoMars  MichaelJackson   Rihanna\n",
       "Adele           1.000000  0.289405   0.282754        0.220490  0.298828\n",
       "Bieber          0.289405  1.000000   0.307293        0.239389  0.312150\n",
       "BrunoMars       0.282754  0.307293   1.000000        0.237794  0.306157\n",
       "MichaelJackson  0.220490  0.239389   0.237794        1.000000  0.245905\n",
       "Rihanna         0.298828  0.312150   0.306157        0.245905  1.000000"
      ]
     },
     "execution_count": 298,
     "metadata": {},
     "output_type": "execute_result"
    }
   ],
   "source": [
    "df_minhash = pd.DataFrame({\"Adele\":[jaccard(mh0, mh0), md01, md02, md03, md04],\n",
    "                   \"Bieber\":[md01, jaccard(mh1, mh1), md12, md13, md14],\n",
    "                   \"BrunoMars\":[md02, md12, jaccard(mh2, mh2), md23, md24],\n",
    "                   \"MichaelJackson\":[md03, md13, md23, jaccard(mh3, mh3), md34],\n",
    "                   \"Rihanna\":[md04, md14, md24, md34, jaccard(mh4, mh4)]})\n",
    "\n",
    "df_minhash.index = ['Adele', 'Bieber', 'BrunoMars', 'MichaelJackson', 'Rihanna']\n",
    "df_minhash"
   ]
  },
  {
   "cell_type": "code",
   "execution_count": 299,
   "metadata": {},
   "outputs": [
    {
     "name": "stderr",
     "output_type": "stream",
     "text": [
      "/var/folders/tx/vfxw8ljd3_57rz58qxf02pm80000gn/T/ipykernel_23442/3776724368.py:2: FutureWarning: In future versions `DataFrame.to_latex` is expected to utilise the base implementation of `Styler.to_latex` for formatting and rendering. The arguments signature may therefore change. It is recommended instead to use `DataFrame.style.to_latex` which also contains additional functionality.\n",
      "  df_minhash.to_latex('minHash.tex', index=True)\n"
     ]
    }
   ],
   "source": [
    "# Generate LaTex Table\n",
    "df_minhash.to_latex('minHash.tex', index=True)"
   ]
  },
  {
   "attachments": {},
   "cell_type": "markdown",
   "metadata": {},
   "source": [
    "### C. Third Table - Bloom Filter\n",
    "#### Jaccard Similarity for earch pair of objects using bloom filter sketches."
   ]
  },
  {
   "cell_type": "code",
   "execution_count": 300,
   "metadata": {},
   "outputs": [
    {
     "name": "stdout",
     "output_type": "stream",
     "text": [
      "[12307, 16012, 24614]\n"
     ]
    },
    {
     "data": {
      "image/png": "[encoded data removed]",
      "text/plain": [
       "<Figure size 640x480 with 1 Axes>"
      ]
     },
     "metadata": {},
     "output_type": "display_data"
    }
   ],
   "source": [
    "len_list = [len(dataset0), len(dataset1), len(dataset2), len(dataset3), len(dataset4)]\n",
    "avg_len = int(sum(len_list) / len(len_list))\n",
    "\n",
    "fpr = [0.1, 0.05, 0.01]\n",
    "\n",
    "def get_m(fpr, avg_len):\n",
    "    m = []\n",
    "    for i in fpr:\n",
    "        m.append(int(abs((avg_len * math.log(i)) / (math.log(2) ** 2))))\n",
    "    return m\n",
    "\n",
    "print(get_m(fpr, avg_len))\n",
    "\n",
    "x = ['10%', '5%', '1%']\n",
    "y = get_m(fpr, avg_len)\n",
    "\n",
    "plt.plot(x,y)\n",
    "plt.title('Difference of m for Bloom Filters')\n",
    "plt.xlabel('Bloom Filters False Positive Rate')\n",
    "plt.ylabel('m')\n",
    "\n",
    "plt.show()"
   ]
  },
  {
   "cell_type": "code",
   "execution_count": 301,
   "metadata": {},
   "outputs": [
    {
     "data": {
      "image/png": "[encoded data removed]",
      "text/plain": [
       "<Figure size 1000x480 with 1 Axes>"
      ]
     },
     "metadata": {},
     "output_type": "display_data"
    }
   ],
   "source": [
    "m = 24614\n",
    "bf0 = bloomFilter(dataset0, m)\n",
    "bf1 = bloomFilter(dataset1, m)\n",
    "bf2 = bloomFilter(dataset2, m)\n",
    "bf3 = bloomFilter(dataset3, m)\n",
    "bf4 = bloomFilter(dataset4, m)\n",
    "\n",
    "bd01 = bf_jaccard(bf0, bf1)\n",
    "bd02 = bf_jaccard(bf0, bf2)\n",
    "bd03 = bf_jaccard(bf0, bf3)\n",
    "bd04 = bf_jaccard(bf0, bf4)\n",
    "bd12 = bf_jaccard(bf1, bf2)\n",
    "bd13 = bf_jaccard(bf1, bf3)\n",
    "bd14 = bf_jaccard(bf1, bf4)\n",
    "bd23 = bf_jaccard(bf2, bf3)\n",
    "bd24 = bf_jaccard(bf2, bf4)\n",
    "bd34 = bf_jaccard(bf3, bf4)\n",
    "\n",
    "height = [bd01, bd02, bd03, bd04, bd12, bd13, bd14, bd23, bd24, bd34]\n",
    "bars = ('bd01', 'bd02', 'bd03', 'bd04', 'bd12', 'bd13', 'bd14', 'bd23', 'bd24', 'bd34')\n",
    "y_pos = np.arange(len(bars))\n",
    "\n",
    "plt.figure().set_figwidth(10)\n",
    "plt.bar(y_pos, height)\n",
    "plt.xticks(y_pos, bars)\n",
    "plt.xlabel('Jaccard Similarity of Bloom Filter Data (m=24614)', color='green', fontsize='14', horizontalalignment='center')\n",
    "plt.show()"
   ]
  },
  {
   "attachments": {},
   "cell_type": "markdown",
   "metadata": {},
   "source": [
    "#### Justification for my choice in value for m\n",
    "\n",
    "After computing the required number of bits in the bit vector for three different false positive rates (10%, 5%, 1%), I have decided to choose the value of m that corresponds to a false positive rate of 1%. Although the resulting m value is not particularly large, it is sufficient for my needs and will provide the desired level of accuracy for the given input dataset."
   ]
  },
  {
   "cell_type": "code",
   "execution_count": 302,
   "metadata": {},
   "outputs": [
    {
     "data": {
      "text/html": [
       "<div>\n",
       "<style scoped>\n",
       "    .dataframe tbody tr th:only-of-type {\n",
       "        vertical-align: middle;\n",
       "    }\n",
       "\n",
       "    .dataframe tbody tr th {\n",
       "        vertical-align: top;\n",
       "    }\n",
       "\n",
       "    .dataframe thead th {\n",
       "        text-align: right;\n",
       "    }\n",
       "</style>\n",
       "<table border=\"1\" class=\"dataframe\">\n",
       "  <thead>\n",
       "    <tr style=\"text-align: right;\">\n",
       "      <th></th>\n",
       "      <th>Adele</th>\n",
       "      <th>Bieber</th>\n",
       "      <th>BrunoMars</th>\n",
       "      <th>MichaelJackson</th>\n",
       "      <th>Rihanna</th>\n",
       "    </tr>\n",
       "  </thead>\n",
       "  <tbody>\n",
       "    <tr>\n",
       "      <th>Adele</th>\n",
       "      <td>1.000000</td>\n",
       "      <td>0.342289</td>\n",
       "      <td>0.335462</td>\n",
       "      <td>0.284230</td>\n",
       "      <td>0.347746</td>\n",
       "    </tr>\n",
       "    <tr>\n",
       "      <th>Bieber</th>\n",
       "      <td>0.342289</td>\n",
       "      <td>1.000000</td>\n",
       "      <td>0.369238</td>\n",
       "      <td>0.332527</td>\n",
       "      <td>0.378007</td>\n",
       "    </tr>\n",
       "    <tr>\n",
       "      <th>BrunoMars</th>\n",
       "      <td>0.335462</td>\n",
       "      <td>0.369238</td>\n",
       "      <td>1.000000</td>\n",
       "      <td>0.325218</td>\n",
       "      <td>0.372452</td>\n",
       "    </tr>\n",
       "    <tr>\n",
       "      <th>MichaelJackson</th>\n",
       "      <td>0.284230</td>\n",
       "      <td>0.332527</td>\n",
       "      <td>0.325218</td>\n",
       "      <td>1.000000</td>\n",
       "      <td>0.330319</td>\n",
       "    </tr>\n",
       "    <tr>\n",
       "      <th>Rihanna</th>\n",
       "      <td>0.347746</td>\n",
       "      <td>0.378007</td>\n",
       "      <td>0.372452</td>\n",
       "      <td>0.330319</td>\n",
       "      <td>1.000000</td>\n",
       "    </tr>\n",
       "  </tbody>\n",
       "</table>\n",
       "</div>"
      ],
      "text/plain": [
       "                   Adele    Bieber  BrunoMars  MichaelJackson   Rihanna\n",
       "Adele           1.000000  0.342289   0.335462        0.284230  0.347746\n",
       "Bieber          0.342289  1.000000   0.369238        0.332527  0.378007\n",
       "BrunoMars       0.335462  0.369238   1.000000        0.325218  0.372452\n",
       "MichaelJackson  0.284230  0.332527   0.325218        1.000000  0.330319\n",
       "Rihanna         0.347746  0.378007   0.372452        0.330319  1.000000"
      ]
     },
     "execution_count": 302,
     "metadata": {},
     "output_type": "execute_result"
    }
   ],
   "source": [
    "df_bloomFilter = pd.DataFrame({\"Adele\":[bf_jaccard(bf0, bf0), bd01, bd02, bd03, bd04],\n",
    "                   \"Bieber\":[bd01, bf_jaccard(bf1, bf1), bd12, bd13, bd14],\n",
    "                   \"BrunoMars\":[bd02, bd12, bf_jaccard(bf2, bf2), bd23, bd24],\n",
    "                   \"MichaelJackson\":[bd03, bd13, bd23, bf_jaccard(bf3, bf3), bd34],\n",
    "                   \"Rihanna\":[bd04, bd14, bd24, bd34,bf_jaccard(bf4, bf4)]})\n",
    "\n",
    "df_bloomFilter.index = ['Adele', 'Bieber', 'BrunoMars', 'MichaelJackson', 'Rihanna']\n",
    "df_bloomFilter"
   ]
  },
  {
   "cell_type": "code",
   "execution_count": 303,
   "metadata": {},
   "outputs": [
    {
     "name": "stderr",
     "output_type": "stream",
     "text": [
      "/var/folders/tx/vfxw8ljd3_57rz58qxf02pm80000gn/T/ipykernel_23442/2006225550.py:2: FutureWarning: In future versions `DataFrame.to_latex` is expected to utilise the base implementation of `Styler.to_latex` for formatting and rendering. The arguments signature may therefore change. It is recommended instead to use `DataFrame.style.to_latex` which also contains additional functionality.\n",
      "  df_bloomFilter.to_latex('bloomFilter.tex', index=True)\n"
     ]
    }
   ],
   "source": [
    "# Generate LaTex Table\n",
    "df_bloomFilter.to_latex('bloomFilter.tex', index=True)"
   ]
  }
 ],
 "metadata": {
  "kernelspec": {
   "display_name": "Python 3",
   "language": "python",
   "name": "python3"
  },
  "language_info": {
   "codemirror_mode": {
    "name": "ipython",
    "version": 3
   },
   "file_extension": ".py",
   "mimetype": "text/x-python",
   "name": "python",
   "nbconvert_exporter": "python",
   "pygments_lexer": "ipython3",
   "version": "3.9.16"
  },
  "vscode": {
   "interpreter": {
    "hash": "1a1af0ee75eeea9e2e1ee996c87e7a2b11a0bebd85af04bb136d915cefc0abce"
   }
  }
 },
 "nbformat": 4,
 "nbformat_minor": 4
}
